{
 "cells": [
  {
   "cell_type": "markdown",
   "metadata": {},
   "source": [
    "# HCI 2019 Week 5 - Spectral Differential Imaging\n",
    "\n",
    "*Matthew Kenworthy // Leiden Observatory*"
   ]
  },
  {
   "cell_type": "markdown",
   "metadata": {},
   "source": [
    "Today you will determine the spectral type of a faint companion by comparing the flux of the primary star to the flux of the secondary companion, and then deriving the Methane Spectral Index (MSI), which is a measure of the amount of methane detected in the companion. \n",
    "\n",
    "The data is kindly provided by Dr. Beth Biller from the Royal Observatory Edinburgh."
   ]
  },
  {
   "cell_type": "code",
   "execution_count": 1,
   "metadata": {},
   "outputs": [],
   "source": [
    "import numpy as np\n",
    "import matplotlib.pyplot as plt\n",
    "from astropy.io import fits\n",
    "%matplotlib inline\n",
    "import matplotlib.patches as patches\n",
    "\n",
    "\n",
    "def box(c,x,y,trim=0):\n",
    "    # chop out a square box from an array\n",
    "    c2 = np.copy(c)\n",
    "    (nx,ny) = c.shape\n",
    "    dx = x - trim\n",
    "    dy = y - trim\n",
    "    c2 = c[dy:dy+2*trim,dx:dx+2*trim]\n",
    "    \n",
    "    return(c2)\n",
    "\n",
    "def circle_mask(im, xc, yc, rcirc):\n",
    "        ny, nx = im.shape\n",
    "        y,x = np.mgrid[0:nx,0:ny]\n",
    "        r = np.sqrt((x-xc)*(x-xc) + (y-yc)*(y-yc))\n",
    "        return ( (r < rcirc))\n",
    "\n",
    "def r_theta(im, xc, yc):\n",
    "    # returns the radius rr and the angle phi for point (xc,yc)\n",
    "    ny, nx = im.shape\n",
    "    yp, xp = np.mgrid[0:ny,0:nx]\n",
    "    yp = yp - yc\n",
    "    xp = xp - xc\n",
    "    rr = np.sqrt(np.power(yp,2.) + np.power(xp,2.))\n",
    "    phi = np.arctan2(yp, xp)\n",
    "    return(rr, phi)\n",
    "\n",
    "\n",
    "\n",
    "# read in the two data cubes\n",
    "f1, head = fits.getdata('cube_f1.fits', header=True)\n",
    "f3a, head = fits.getdata('cube_f3a.fits', header=True)"
   ]
  },
  {
   "cell_type": "markdown",
   "metadata": {},
   "source": [
    "## Details of the observations\n",
    "The SDI camera uses two narrowband filters, called F1 and F3a, that measure flux in and out of the methane absorption feature in the H band (1.6 microns).\n",
    "\n",
    "There are two image cubes, one in the F1 band and the other in the F3a band, each containing four separate images.\n",
    "\n",
    "F1 is at 1.575 microns, and F3a is at 1.625 microns, with a full width of 0.025 microns. Both  filters can be assumed to be 100% transmission inside the filter bandpass and 0% transmission outside the bandpass.\n",
    "\n",
    "The **Methane Spectral Index (MSI)** is defined as:\n",
    "\n",
    "$$MSI = \\frac{\\text{Mean flux in band F1}}{\\text{Mean flux in band F3a}} $$\n",
    "\n",
    "The primary star is called SCR 1845-6357 has a spectral type M8.5, and the secondary companion appears at a separation of 1.170 arcsec from the primary and at a position angle of 170.20 degrees.\n",
    "\n",
    "The plate scale of the SDI camera is $0.01725\\pm0.00025$ arcsec/pixel.\n"
   ]
  },
  {
   "cell_type": "markdown",
   "metadata": {},
   "source": [
    "## Measuring MSI from a Spectral Library\n",
    "Spectra of M, L and T stars in the near-infrared (M and L Dwarf Near-Infrared Standards) have been collected at the SpeX Prism Spectral Libraries:\n",
    "\n",
    "http://pono.ucsd.edu/~adam/browndwarfs/spexprism/library.html\n",
    "\n",
    "You should download the `All sources` Zip archive and expand all the spectra into a local directory, and then continue to keep the page open and look at the detailed web pages.\n",
    "\n",
    "**Q1 (4 points):** Given the spectral type of the primary star (hint: look at the first few lines of each of the spectra files...), find a spectrum with the same spectral type, download it in ascii format, and plot it using `plt.errorbar()`. Make the wavelength go from 1.0 to 2.0 microns, and the normalised flux from 0.0 to 1.0. \n",
    "\n",
    "Add a red rectangle to show the wavelength range of the F1 filter and a green rectangle for the wavelength range of the F3a filter. Make sure they have the correct bandwidth, and have an `alpha=0.5` so that you can see the spectrum of the star. \n",
    "\n",
    "**HINT** Go read about `matplotlib.patches` and `patches.Rectangle()` using Google..."
   ]
  },
  {
   "cell_type": "code",
   "execution_count": 58,
   "metadata": {},
   "outputs": [
    {
     "data": {
      "image/png": "[encoded data removed]",
      "text/plain": [
       "<Figure size 432x288 with 1 Axes>"
      ]
     },
     "metadata": {
      "needs_background": "light"
     },
     "output_type": "display_data"
    }
   ],
   "source": [
    "from astropy.io import ascii\n",
    "spec_star = ascii.read('spex-prism_2MASSJ22021302-0228558_20050908_KIR10A.txt')\n",
    "wavelength = spec_star['col1']\n",
    "F_norm = spec_star['col2']\n",
    "noise = spec_star['col3']\n",
    "\n",
    "\n",
    "##### Q1 answer below here\n",
    "\n",
    "fig,ax = plt.subplots(1)\n",
    "ax.errorbar(wavelength,F_norm,yerr=noise,capsize=3)\n",
    "F1 = patches.Rectangle((1.575-0.025/2,0),0.025,1,linewidth=2,edgecolor='k',alpha=0.5,facecolor='none')\n",
    "F3a = patches.Rectangle((1.625 - 0.025/2,0),0.025,1,linewidth=2,edgecolor = 'b',alpha = 0.5,facecolor = 'none')\n",
    "ax.add_patch(F1)\n",
    "ax.add_patch(F3a)\n",
    "plt.xlim(1,2)\n",
    "plt.ylim(0,1)\n",
    "plt.xlabel('Wavelength ($\\lambda$)')\n",
    "plt.ylabel('Normalized Flux')\n",
    "plt.show()\n",
    "\n",
    "\n"
   ]
  },
  {
   "cell_type": "markdown",
   "metadata": {},
   "source": [
    "\n",
    "**Q2 (2 points):** Write a function `flux_filter(wlen, flux, wlen0, dwlen)` that calculates the mean flux transmitted through a boxcar filter with central wavelength `wlen0` and filter width `dwlen` and the spectrum is input as `(wlen, flux)`:"
   ]
  },
  {
   "cell_type": "code",
   "execution_count": 59,
   "metadata": {},
   "outputs": [
    {
     "name": "stdout",
     "output_type": "stream",
     "text": [
      "0.6719738000000001\n",
      "0.6591535000000001\n"
     ]
    }
   ],
   "source": [
    "def flux_filter(wlen, flux, wlen0, dwlen):\n",
    "    upper = np.max(np.where(wlen<=wlen0+dwlen/2.))\n",
    "    lower = np.min(np.where(wlen>=wlen0-dwlen/2.))\n",
    "    return np.mean(flux[lower:upper])\n",
    "    \n",
    "    \n",
    "print(flux_filter(wavelength,F_norm,1.575,0.025))#F1\n",
    "print(flux_filter(wavelength,F_norm,1.625,0.025))#F3a\n",
    "    \n",
    "# Q2 answer here  \n",
    "    "
   ]
  },
  {
   "cell_type": "markdown",
   "metadata": {},
   "source": [
    "**Q3 (1 point):** Calculate the MSI for this M8.5 star, and display it to 2 decimal places."
   ]
  },
  {
   "cell_type": "code",
   "execution_count": 60,
   "metadata": {},
   "outputs": [
    {
     "name": "stdout",
     "output_type": "stream",
     "text": [
      "MSI for M8.5 star = 1.02\n"
     ]
    }
   ],
   "source": [
    "# Q3 answer here\n",
    "def calc_MSI(wlen,flux,dwlen):\n",
    "    F1 = flux_filter(wlen,flux,1.575,dwlen)\n",
    "    F3a = flux_filter(wlen,flux,1.625,dwlen)\n",
    "    return np.mean(F1) / np.mean(F3a)\n",
    "\n",
    "print('MSI for M8.5 star = %.2f' % calc_MSI(wavelength,F_norm,0.025))\n",
    "    \n",
    "      \n"
   ]
  },
  {
   "cell_type": "markdown",
   "metadata": {},
   "source": [
    "## Determining the MSI of the secondary companion\n",
    "\n",
    "**Q4 (6 points):** Measure the flux of the primary star and secondary companion using apertures with a diameter of 0.5 arcseconds.\n",
    "\n",
    "**HINT:** calculate the diameter of the aperture in pixels and examine the image cubes in ds9.\n",
    "\n",
    "Make two arrays holding the measured x and y positions of the primary star, and use an offset to determine the position of the secondary companion. Make a loop to go over each of the 4 images, and write out the flux ratio between the primary star and the secondary companion.\n",
    "\n",
    "**SECOND HINT:** is the background flux surrounding the stars at a level of zero counts? If not, you should measure the background flux and subtract it off the image..."
   ]
  },
  {
   "cell_type": "code",
   "execution_count": 61,
   "metadata": {},
   "outputs": [
    {
     "name": "stdout",
     "output_type": "stream",
     "text": [
      "[29.733334, 29.005018, 26.71664, 25.848148]\n",
      "[65.81057, 63.676983, 57.185833, 43.67982]\n"
     ]
    }
   ],
   "source": [
    "# Q4 answer here\n",
    "num_pixs = int(np.around(0.5/0.01725))\n",
    "x = np.array([74,74,50,50])\n",
    "y = np.array([111,100,100,125])\n",
    "theta = 180-170.2\n",
    "theta_rad = theta * np.pi/180\n",
    "r_planet = 1.170 / 0.01725\n",
    "\n",
    "def sub_flat(im):\n",
    "    #subtract sky\n",
    "    im -= np.median(im)\n",
    "    #get rid of negative values\n",
    "    return np.where(im>0,im,0)\n",
    "\n",
    "f1_new = []\n",
    "f3a_new = []\n",
    "\n",
    "for i in range(len(f1)):\n",
    "    f1_new.append(sub_flat(f1[i]))\n",
    "    f3a_new.append(sub_flat(f3a[i]))\n",
    "\n",
    "#Images for next question\n",
    "f1star_masked = []\n",
    "f1p_masked = []\n",
    "f3astar_masked = []\n",
    "f3ap_masked = []\n",
    "\n",
    "#planet coordinate\n",
    "px_coor = []\n",
    "py_coor = []\n",
    "\n",
    "#Fluxes\n",
    "f1_star_flux = []\n",
    "f1_p_flux = []\n",
    "f3a_star_flux = []\n",
    "f3a_p_flux = []\n",
    "\n",
    "#Ratios\n",
    "f1_ratio = []\n",
    "f3a_ratio = []\n",
    "for i in range(len(f1_new)):\n",
    "    f1_star_mask = f1_new[i]*circle_mask(f1_new[i],x[i],y[i],num_pixs/2)\n",
    "    f1star_masked.append(f1_star_mask)\n",
    "    f1_pposx = x[i] - int(r_planet*np.sin(theta_rad))\n",
    "    px_coor.append(f1_pposx)\n",
    "    f1_pposy = y[i] - int(r_planet*np.cos(theta_rad))\n",
    "    py_coor.append(f1_pposy)\n",
    "    f1_pmask = f1_new[i] * circle_mask(f1_new[i],f1_pposx,f1_pposy,num_pixs/2)\n",
    "    f1p_masked.append(f1_pmask)\n",
    "    f3a_star_mask = f3a_new[i]*circle_mask(f3a_new[i],x[i],y[i],num_pixs/2)\n",
    "    f3astar_masked.append(f3a_star_mask)\n",
    "    f3a_pmask = f3a_new[i] * circle_mask(f3a_new[i],f1_pposx,f1_pposy,num_pixs/2)\n",
    "    f3ap_masked.append(f3a_pmask)\n",
    "    f1starflux = f1_star_mask[f1_star_mask>0]\n",
    "    f1_star_flux.append(f1starflux)\n",
    "    f1pflux = f1_pmask[f1_pmask>0]\n",
    "    f1_p_flux.append(f1pflux)\n",
    "    f3astarflux = f3a_star_mask[f3a_star_mask>0]\n",
    "    f3a_star_flux.append(f3astarflux)\n",
    "    f3apflux = f3a_pmask[f3a_pmask>0]\n",
    "    f3a_p_flux.append(f3apflux)\n",
    "    f1_ratio.append(np.mean(f1starflux) / np.mean(f1pflux))\n",
    "    f3a_ratio.append(np.mean(f3astarflux) / np.mean(f3apflux))\n",
    "    \n",
    "print(f1_ratio)\n",
    "print(f3a_ratio)"
   ]
  },
  {
   "cell_type": "markdown",
   "metadata": {},
   "source": [
    "**Q5 (2 points) SANITY CHECK** make sure you've got your coordinates right by cutting out a `box(x,y,20)` of the image and displaying it. The star/companion should be in the middle of the box. Have a look at the code below to make a 2x2 array of images, or simply make 4 images from the F1 cube showing that you have the primary star location correct:"
   ]
  },
  {
   "cell_type": "code",
   "execution_count": 62,
   "metadata": {},
   "outputs": [
    {
     "data": {
      "image/png": "[encoded data removed]",
      "text/plain": [
       "<Figure size 432x288 with 4 Axes>"
      ]
     },
     "metadata": {
      "needs_background": "light"
     },
     "output_type": "display_data"
    },
    {
     "data": {
      "image/png": "[encoded data removed]",
      "text/plain": [
       "<Figure size 432x288 with 4 Axes>"
      ]
     },
     "metadata": {
      "needs_background": "light"
     },
     "output_type": "display_data"
    }
   ],
   "source": [
    "# Q5 sanity check here\n",
    "\n",
    "# for i in range(len(f1star_masked)):\n",
    "#     plt.imshow(box(f1star_masked[i],x[i],y[i],20),origin = 'lower')\n",
    "#     plt.show()\n",
    "\n",
    "fig, ax = plt.subplots(2,2)\n",
    "ax[0,0].imshow(box(f1star_masked[0],x[0],y[0],20),origin = 'lower')\n",
    "ax[0,0].set_title('Star 1 (F1)')\n",
    "ax[0,1].imshow(box(f1star_masked[1],x[1],y[1],20),origin = 'lower')\n",
    "ax[0,1].set_title('Star 2 (F1)')\n",
    "ax[1,0].imshow(box(f1star_masked[2],x[2],y[2],20),origin = 'lower')\n",
    "ax[1,0].set_title('Star 3 (F1)')\n",
    "ax[1,1].imshow(box(f1star_masked[3],x[3],y[3],20),origin = 'lower')\n",
    "ax[1,1].set_title('Star 4 (F1)')\n",
    "for i in ax.flat:\n",
    "    i.label_outer()\n",
    "plt.show()\n",
    "\n",
    "fig, ax = plt.subplots(2,2)\n",
    "ax[0,0].imshow(box(f3ap_masked[0],px_coor[0],py_coor[0],20),origin = 'lower')\n",
    "ax[0,0].set_title('Planet 1 (F3a)')\n",
    "ax[0,1].imshow(box(f3ap_masked[1],px_coor[1],py_coor[1],20),origin = 'lower')\n",
    "ax[0,1].set_title('Planet 2 (F3a)')\n",
    "ax[1,0].imshow(box(f3ap_masked[2],px_coor[2],py_coor[2],20),origin = 'lower')\n",
    "ax[1,0].set_title('Planet 3 (F3a)')\n",
    "ax[1,1].imshow(box(f3ap_masked[3],px_coor[3],py_coor[3],20),origin = 'lower')\n",
    "ax[1,1].set_title('Planet 4 (F3a)')\n",
    "for i in ax.flat:\n",
    "    i.label_outer()\n",
    "plt.show()"
   ]
  },
  {
   "cell_type": "markdown",
   "metadata": {},
   "source": [
    "**Q6 (2 points): ** Now you have 4 measurements of flux ratio at F1 and at F3a for the primary star compared to the secondary companion, calculate the MSI for the secondary companion and estimate an error using `np.mean()` and `np.std()`"
   ]
  },
  {
   "cell_type": "code",
   "execution_count": 63,
   "metadata": {},
   "outputs": [
    {
     "name": "stdout",
     "output_type": "stream",
     "text": [
      "[1.9532987, 1.9295888, 1.872463, 1.4420701]\n",
      "[1.443307, 2.1553526, 2.0814023, 0.723504]\n",
      "MSI of Companion =  1.9+/-1.5\n"
     ]
    }
   ],
   "source": [
    "# Q6 answer here\n",
    "\n",
    "from uncertainties import ufloat\n",
    "\n",
    "MSI = []\n",
    "MSI_err = []\n",
    "for i in range(len(f1_star_flux)):\n",
    "    MSI.append(np.mean(f1_p_flux[i]) / np.mean(f3a_p_flux[i]))\n",
    "    MSI_err.append(np.nanstd(f1_p_flux[i]) / np.nanstd(f3a_p_flux[i]))\n",
    "    \n",
    "print(MSI)\n",
    "print(MSI_err)\n",
    "\n",
    "MSI_comp = []\n",
    "\n",
    "for i in range(len(MSI)):\n",
    "    MSI_comp.append(ufloat(MSI[i],MSI_err[i]))\n",
    "    \n",
    "print('MSI of Companion = ', np.median(MSI_comp))\n",
    "\n",
    "#That seems to be a pretty large error :("
   ]
  },
  {
   "cell_type": "markdown",
   "metadata": {},
   "source": [
    "## Comapring your result to Biller et al. (2006)\n",
    "The measured methane spectral index in Biller et al. (2006) is $2.7 \\pm 0.1$\n",
    "\n",
    "**Q7 (2 points):** Is there a significant difference between your MSI and that in the paper? If YES, why? Are your propagated errors larger than Biller's measurements? If YES, why?"
   ]
  },
  {
   "cell_type": "markdown",
   "metadata": {},
   "source": [
    "# Q7 answer here\n",
    "\n",
    "## There does seem to be a decent difference in the resulting MSI and especially the error along with it.  This would most likely result from better image cleaning.  \n"
   ]
  },
  {
   "cell_type": "markdown",
   "metadata": {},
   "source": [
    "## Determining the spectral type of the secondary companion\n",
    "\n",
    "**Q8 (6 points):** Construct a plot showing spectral type along the x-axis with methane spectral index on the y-axis. Go to the SPeX webpage, and download the L dwarf and T dwarf spectral libraries.\n",
    "\n",
    "Pick a star from every **Near IR spectral type** subtype from L6 to T9 (i.e. L6, L7, L8, L9, T0, T1...), calculate the Methane Spectral Index, and plot it below. (**HINT:** it is easier to have a number represent the spectra type, i.e. 6 = L6, 8 = L8, 10 = T0....)\n",
    "\n",
    "Overplot your measured Methane Spectral Index for the secondary companion and determine what spectral type the companion is. Take the errors from your 4 measurements of MSI to estimate by eye an error in spectral type."
   ]
  },
  {
   "cell_type": "code",
   "execution_count": 83,
   "metadata": {},
   "outputs": [
    {
     "data": {
      "image/png": "[encoded data removed]",
      "text/plain": [
       "<Figure size 432x288 with 1 Axes>"
      ]
     },
     "metadata": {
      "needs_background": "light"
     },
     "output_type": "display_data"
    }
   ],
   "source": [
    "# Q8 answer here\n",
    "Ltypes = ['spex-prism_2MASSJ22120703+3430351_20051019_KIR10A.txt',\n",
    "          'spex-prism_SDSSJ104409.43+042937.6_20080110_BUR10A.txt',\n",
    "          'spex-prism_SDSSJ121951.45+312849.4_20061224_BUR10A.txt',\n",
    "          'spex-prism_SDSSJ104335.08+121314.1_20060531_KIR10A.txt'\n",
    "         ]\n",
    "Ttypes = ['spex-prism_SDSSJ120747.17+024424.8_20061221_LOO07A.txt',\n",
    "          'spex-prism_SDSSJ085834.42+325627.7_20050123_CHI06A.txt',\n",
    "          'spex-prism_SDSSJ075840.33+324723.4_20061223_BUR08B.txt',\n",
    "          'spex-prism_SDSSJ102109.69-030420.1_20040312_BUR06C.txt',\n",
    "          'spex-prism_2MASSIJ2254188+312349_20030918_BUR04B.txt',\n",
    "          'spex-prism_SDSSJ074201.41+205520.5_20080110_BUR10A.txt',\n",
    "          'spex-prism_SDSSpJ162414.37+002915.6_20040312_BUR06D.txt',\n",
    "          'spex-prism_2MASSIJ0727182+171001_20040310_BUR06D.txt',\n",
    "          'spex-prism_2MASSJ09393548-2448279_20040312_BUR06D.txt'\n",
    "         ]\n",
    "spec_num = ['L6','L7','L8','L9','T0','T1','T2','T3','T4','T5','T6','T7','T8']\n",
    "\n",
    "comp_MSI = np.median(MSI_comp)\n",
    "\n",
    "for i in range(len(Ltypes)):\n",
    "    star_spec = ascii.read(Ltypes[i])\n",
    "    lam = star_spec['col1']\n",
    "    flux = star_spec['col2']\n",
    "    plt.scatter(spec_num[i],calc_MSI(lam,flux,0.025),color = 'r')\n",
    "for i in range(len(Ttypes)):\n",
    "    star_spec = ascii.read(Ttypes[i])\n",
    "    lam = star_spec['col1']\n",
    "    flux = star_spec['col2']\n",
    "    plt.scatter(spec_num[i+4],calc_MSI(lam,flux,0.025),color = 'b')\n",
    "\n",
    "plt.errorbar(spec_num,([comp_MSI.nominal_value]*13), yerr =([comp_MSI.std_dev]*13),label = 'Companion',\n",
    "            capsize = 3)\n",
    "plt.xlabel('NIR Spectral Type')\n",
    "plt.ylabel('MSI')\n",
    "plt.legend()\n",
    "plt.show()\n",
    "\n"
   ]
  },
  {
   "cell_type": "markdown",
   "metadata": {},
   "source": [
    "### Most of the spectral types fit within the error calculated for the companion.  But it looks like T4.5 would be the closest fit based on the behavior of the data"
   ]
  },
  {
   "cell_type": "markdown",
   "metadata": {},
   "source": [
    "**Please put down the number of hours you spent on this Practicum in the cell below**\n"
   ]
  },
  {
   "cell_type": "markdown",
   "metadata": {},
   "source": [
    "# 6 Hours"
   ]
  }
 ],
 "metadata": {
  "kernelspec": {
   "display_name": "Python 3",
   "language": "python",
   "name": "python3"
  },
  "language_info": {
   "codemirror_mode": {
    "name": "ipython",
    "version": 3
   },
   "file_extension": ".py",
   "mimetype": "text/x-python",
   "name": "python",
   "nbconvert_exporter": "python",
   "pygments_lexer": "ipython3",
   "version": "3.7.3"
  }
 },
 "nbformat": 4,
 "nbformat_minor": 1
}
