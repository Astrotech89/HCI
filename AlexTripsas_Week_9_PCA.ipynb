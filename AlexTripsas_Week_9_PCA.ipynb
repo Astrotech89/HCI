{
 "cells": [
  {
   "cell_type": "markdown",
   "metadata": {},
   "source": [
    "# HCI Week 9 - Principal Component Analysis\n",
    "*Matthew Kenworthy // Leiden Observatory*"
   ]
  },
  {
   "cell_type": "markdown",
   "metadata": {},
   "source": [
    "Today we cover the implementation of Principal Component Analysis as described in [Amara and Quanz (2012)](http://adsabs.harvard.edu/abs/2012MNRAS.427..948A). Go and read Section 3.1."
   ]
  },
  {
   "cell_type": "code",
   "execution_count": 11,
   "metadata": {},
   "outputs": [],
   "source": [
    "import numpy as np\n",
    "import matplotlib.pyplot as plt\n",
    "%matplotlib inline\n",
    "from astropy.io import fits\n",
    "\n",
    "import matplotlib as mpl\n",
    "mpl.rc('image', interpolation='nearest', origin='lower')\n",
    "\n",
    "def wfits(im, fname):\n",
    "    \"\"\"wfits - write im to file fname, automatically overwriting any old file\"\"\"\n",
    "    from astropy.io import fits\n",
    "    hea = fits.PrimaryHDU(im)\n",
    "    hea.writeto(fname, clobber=True)\n",
    "\n",
    "def r_theta(im, xc, yc):\n",
    "    # returns the radius rr and the angle phi for point (xc,yc)\n",
    "    ny, nx = im.shape\n",
    "    yp, xp = np.mgrid[0:ny,0:nx]\n",
    "    yp = yp - yc\n",
    "    xp = xp - xc\n",
    "    rr = np.sqrt(np.power(yp,2.) + np.power(xp,2.))\n",
    "    phi = np.arctan2(yp, xp)\n",
    "    return(rr, phi)\n",
    "\n",
    "def cen_rot2 (im, rot, dim_out, offset1=(0,0), offset2=(0,0), order=2):\n",
    "    \"\"\"cen_rot2 - takes a cube of images im, and a set of rotation angles in rot,\n",
    "                and translates the middle of the frame with a size dim_out to the middle of\n",
    "                a new output frame with an additional rotation of rot.\n",
    "                \"\"\"\n",
    "    from scipy.ndimage import affine_transform\n",
    "    a = rot * np.pi / 180.\n",
    "    \n",
    "    # make a rotation matrix\n",
    "    transform=np.array([[np.cos(a),-np.sin(a)],[np.sin(a),np.cos(a)]])\n",
    "    \n",
    "    # calculate total offset for image output\n",
    "\n",
    "    # determine centre of input image\n",
    "\n",
    "    # -0.5 is there for fencepost counting error\n",
    "    c_in = np.array(offset1) - 0.5\n",
    "    c_out = 0.5 * np.array(dim_out) - 0.5\n",
    "\n",
    "    # c_out has to be pre-rotated to make offset correct\n",
    "    offset = c_in - c_out.dot(transform) - np.array(offset2).dot(transform)\n",
    "    \n",
    "    # perform the transformation\n",
    "    dst=affine_transform( \\\n",
    "        im,transform.T, order=order,offset=offset, \\\n",
    "        output_shape=dim_out, cval=0.0)\n",
    "    return(dst)\n",
    "\n",
    "def derot(imin, rotangle, out_dims, star_cen):\n",
    "    # get shape of input image\n",
    "    nim, nx, ny = imin.shape\n",
    "    \n",
    "    # make a zero value numpy array for the output\n",
    "    im_out = np.zeros((nim, out_dims[0], out_dims[1]))\n",
    "    \n",
    "    for j, frame in enumerate(np.split(imin, nim, axis=0)):\n",
    "        frame_sq = np.squeeze(frame)\n",
    "        frame_rot = cen_rot2(frame_sq, rotangle[j], out_dims, offset1=star_cen)\n",
    "        im_out[j,:,:] = frame_rot\n",
    "        \n",
    "    return(im_out)\n",
    "\n",
    "def rings(im, xc, yc, ring_array):\n",
    "    im_rings = np.zeros_like(im) - 1.\n",
    "    \n",
    "    # make inner and outer radius\n",
    "    r_inner = ring_array[0:-1]\n",
    "    r_outer = ring_array[1:]\n",
    "    \n",
    "    r, t = r_theta(im_rings, xc, yc)\n",
    "    for i, (rin, rout) in enumerate(zip(r_inner, r_outer)):\n",
    "        im_rings[(r >= rin) * (r < rout)] = i \n",
    "        \n",
    "    r_middle = (r_inner + r_outer) / 2.\n",
    "    return(im_rings, r_middle)\n",
    "\n",
    "def circle_mask(im, xc, yc, rcirc):\n",
    "        ny, nx = im.shape\n",
    "        y,x = np.mgrid[0:nx,0:ny]\n",
    "        r = np.sqrt((x-xc)*(x-xc) + (y-yc)*(y-yc))\n",
    "        return ( (r < rcirc))"
   ]
  },
  {
   "cell_type": "markdown",
   "metadata": {},
   "source": [
    "## Data of the planetary system HR 8799"
   ]
  },
  {
   "cell_type": "markdown",
   "metadata": {},
   "source": [
    "The data is from the [NIRC2](https://www2.keck.hawaii.edu/inst/nirc2/) camera on the Keck II 10m telescope, from observing program U159N2 by Bruce Macintosh. This data is courtesy of Travis Barman. Image registration by Raphael Galicher. \n",
    "\n",
    "The data is taken in the L prime (Lp) filter (covers 3.42 to 4.12 microns in wavelength), in the narrow camera pixel scale (10mas/pixel)\n",
    "\n",
    "https://www2.keck.hawaii.edu/inst/nirc2/genspecs.html"
   ]
  },
  {
   "cell_type": "markdown",
   "metadata": {},
   "source": [
    "## Image data and position angle data\n",
    "The data is approximately 100 images taken over the course of one night on Keck in 2009. Keck is an Alt-az telescope, so the sky rotates in the camera field of view. To derotate the images so that they are all aligned on the sky, you need a list of derotation angles, provided in `rotnth.fits`. You can read it in the same way as the data cube file.\n",
    "\n",
    "To save storage sapce, this cube is a cropped version of the data from the earlier Practicum. The sky background is **already subtracted** from this data set, so you do not need to do it again.\n"
   ]
  },
  {
   "cell_type": "code",
   "execution_count": 12,
   "metadata": {},
   "outputs": [],
   "source": [
    "# read in the data cube\n",
    "im, he = fits.getdata('im_week10.fits.gz', header=True)\n",
    "\n",
    "# read in the rotation angles\n",
    "rot = fits.getdata('rotnth.fits')\n"
   ]
  },
  {
   "cell_type": "markdown",
   "metadata": {},
   "source": [
    "## Performing regular ADI\n",
    "\n",
    "First, we will perform a regular ADI reduction, but this time using an annular mask and numpy Broadcasting to pull out the required pixels from the data cube.\n",
    "\n",
    "### Defining an annulus\n",
    "\n",
    "Assume that the star is in the centre of each image frame.\n",
    "\n",
    "Make a mask `m` that has the same dimensions as a single image frame, with inner radius of 10 pixels and outer radius of 120 pixels. Display this image with `imshow()`.\n",
    "\n",
    "**Q1 (2 points):** Print out the numer of pixels in the annular region and print out the shape of mask `m`."
   ]
  },
  {
   "cell_type": "code",
   "execution_count": 13,
   "metadata": {},
   "outputs": [
    {
     "data": {
      "text/plain": [
       "<matplotlib.image.AxesImage at 0x26eb74e7e80>"
      ]
     },
     "execution_count": 13,
     "metadata": {},
     "output_type": "execute_result"
    },
    {
     "data": {
      "image/png": "[encoded data removed]",
      "text/plain": [
       "<Figure size 432x288 with 1 Axes>"
      ]
     },
     "metadata": {
      "needs_background": "light"
     },
     "output_type": "display_data"
    }
   ],
   "source": [
    "# Q1 answer here\n",
    "\n",
    "r_ring = np.array([10,120])\n",
    "\n",
    "m, r_rad = rings(im[0], 150,150, r_ring)\n",
    "\n",
    "plt.imshow(m)"
   ]
  },
  {
   "cell_type": "code",
   "execution_count": 14,
   "metadata": {},
   "outputs": [
    {
     "name": "stdout",
     "output_type": "stream",
     "text": [
      "(300, 300)\n",
      "44908\n",
      "0.0\n",
      "[[False False False ... False False False]\n",
      " [False False False ... False False False]\n",
      " [False False False ... False False False]\n",
      " ...\n",
      " [False False False ... False False False]\n",
      " [False False False ... False False False]\n",
      " [False False False ... False False False]]\n"
     ]
    },
    {
     "data": {
      "text/plain": [
       "<matplotlib.image.AxesImage at 0x26eb7496dd8>"
      ]
     },
     "execution_count": 14,
     "metadata": {},
     "output_type": "execute_result"
    },
    {
     "data": {
      "image/png": "[encoded data removed]",
      "text/plain": [
       "<Figure size 432x288 with 1 Axes>"
      ]
     },
     "metadata": {
      "needs_background": "light"
     },
     "output_type": "display_data"
    }
   ],
   "source": [
    "# np.where(ann_mask == 0)\n",
    "\n",
    "print(m.shape)\n",
    "row, col = np.where(m == 0)\n",
    "print(row.size)\n",
    "\n",
    "\n",
    "print(m.max())\n",
    "\n",
    "m += 1\n",
    "m = m.astype(bool)\n",
    "print(m)\n",
    "plt.imshow(m)"
   ]
  },
  {
   "cell_type": "markdown",
   "metadata": {},
   "source": [
    "## Using broadcasting to select annular regions through the whole data cube\n",
    "\n",
    "You've used broadcasting during this course to select columns and lines through data cubes and to generate functions. You can also use 2D masks to select data from a 3D data cube.\n",
    "\n",
    "You can use a mask to select pixels from a 2D image like so - in this case, we are looking at frame 5 in the image cube `im`:\n",
    "    \n",
    "    ann_pix = im[5,:][m]\n",
    "    print ann_pix\n",
    "    (44928,)\n",
    "   \n",
    "Notice that the mask selection has flattened the output array into a 1D numpy vector.\n",
    "\n",
    "If your data cube has a shape of `[X,Y,N]` and your mask has a shape of `[X,Y]`, then `image[mask]` will broadcast across `N` to output a 2D array containing `N` columns with `1D` vectors.\n",
    "\n",
    "The dimensions of `im` are in the wrong order, though. To reorder them, use `np.swapaxes()` to rearrange the order of dimensions in `im` and then use the annulus mask to pull out all annulus pixels in the data cube into an array called `A`.\n",
    "\n",
    "**Q2 (2 points)** Print the shape of `A`.\n",
    "\n",
    "**HINT** using `print x.shape` a lot will help you understand what's going on.\n"
   ]
  },
  {
   "cell_type": "code",
   "execution_count": 15,
   "metadata": {},
   "outputs": [
    {
     "name": "stdout",
     "output_type": "stream",
     "text": [
      "(44908,)\n",
      "(94, 300, 300)\n"
     ]
    }
   ],
   "source": [
    "# Q2 answer here\n",
    "ann_pix = im[5,:][m]\n",
    "print(ann_pix.shape)\n",
    "print(im.shape)"
   ]
  },
  {
   "cell_type": "code",
   "execution_count": 16,
   "metadata": {},
   "outputs": [
    {
     "data": {
      "text/plain": [
       "(300, 300, 94)"
      ]
     },
     "execution_count": 16,
     "metadata": {},
     "output_type": "execute_result"
    }
   ],
   "source": [
    "im_swap = np.swapaxes(im,0,2)\n",
    "im_swap.shape"
   ]
  },
  {
   "cell_type": "code",
   "execution_count": 17,
   "metadata": {},
   "outputs": [
    {
     "name": "stdout",
     "output_type": "stream",
     "text": [
      "(44908, 94)\n"
     ]
    }
   ],
   "source": [
    "A = im_swap[m]\n",
    "print(A.shape)"
   ]
  },
  {
   "cell_type": "markdown",
   "metadata": {},
   "source": [
    "Calculate the median annulus of all the annuli combined and subtract it off all the individual annuli. This is the equivalent of calculating the median image of the cube, and then subtracting this off all the individual frames in the cube. Call it `Amedsub`. NOTE you should NOT use a `for` loop to do this, only do it using broadcasting! Ask Vikram or I if you're still unsure how to do this.\n",
    "\n",
    "**Q3 (2 points)** Put `Amedsub` back into an empty data cube, derotate the image frames to align with the sky, and take the median of this image stack. Call this `ADImed` and `imshow()` it from a range of -500 to +500 counts. You should see three planets, with the innermost one showing lots of speckle noise next to it.\n",
    "\n",
    "**NOTE** after you've put `Amedsub` into the data cube, you will need to rearrange the axes back when you do the derotation of the image frames!"
   ]
  },
  {
   "cell_type": "code",
   "execution_count": 19,
   "metadata": {},
   "outputs": [
    {
     "name": "stdout",
     "output_type": "stream",
     "text": [
      "(44908,)\n",
      "(300, 300, 94)\n",
      "Amedsub shape= (44908, 94)\n",
      "Cube Shape = (300, 300, 94)\n",
      "Cube Shape After Swap = (94, 300, 300)\n",
      "ADImed shape = (300, 300)\n"
     ]
    },
    {
     "data": {
      "image/png": "[encoded data removed]",
      "text/plain": [
       "<Figure size 432x288 with 2 Axes>"
      ]
     },
     "metadata": {
      "needs_background": "light"
     },
     "output_type": "display_data"
    }
   ],
   "source": [
    "# Q3 answer here\n",
    "\n",
    "median = np.median(A, axis=1)\n",
    "print(median.shape)\n",
    "Amedsub = im_swap[m] - median[:,np.newaxis]\n",
    "print(im_swap.shape)\n",
    "print('Amedsub shape=',Amedsub.shape)\n",
    "\n",
    "cube = np.zeros_like(im_swap)\n",
    "cube[:][:][:][m] = Amedsub\n",
    "print('Cube Shape =',cube.shape)\n",
    "cube = np.swapaxes(cube,0,2)\n",
    "print('Cube Shape After Swap =',cube.shape)\n",
    "\n",
    "ADImed = np.median(derot(cube,rot, (300,300),(150,150)),axis=0)\n",
    "print('ADImed shape =', ADImed.shape)\n",
    "\n",
    "plt.imshow(ADImed,vmin=-500,vmax=500)\n",
    "plt.colorbar()\n",
    "plt.show()"
   ]
  },
  {
   "cell_type": "markdown",
   "metadata": {},
   "source": [
    "## Computing the SVD\n",
    "\n",
    "The next step is to now calculate the Singular Value Decomposition of `A`.\n",
    "\n",
    "To do this, we also need to make sure that the data in each annulus has a mean of zero - check how to take the mean of one specific axis by reading the documentation on `mean(axis= ... `\n",
    "\n",
    "**Q4 (1 point):** For `Amedsub`, calculate the mean flux in each individual annulus and subtract it off. Call this array `Ain`."
   ]
  },
  {
   "cell_type": "code",
   "execution_count": 21,
   "metadata": {},
   "outputs": [
    {
     "name": "stdout",
     "output_type": "stream",
     "text": [
      "(44908, 94)\n",
      "[[128.84793  224.02707  199.6402   ... 512.0946   440.342    399.71588 ]\n",
      " [425.1873   219.61398  273.10675  ... 622.089    320.3484   551.38885 ]\n",
      " [441.76834  399.59543  381.43365  ... 392.40857  111.63739  671.95386 ]\n",
      " ...\n",
      " [571.1743    42.063683 443.89532  ...  93.56145   15.762421 425.4973  ]\n",
      " [452.87723  284.21555  341.09845  ... 274.2807   247.32074  242.56868 ]\n",
      " [160.96829   20.202843 161.30035  ... 254.85008  485.63058  129.44478 ]]\n"
     ]
    }
   ],
   "source": [
    "# Q4 answer here\n",
    "\n",
    "Ain = A - np.mean(Amedsub, axis=0)\n",
    "print(Ain.shape)\n",
    "print(Ain)"
   ]
  },
  {
   "cell_type": "markdown",
   "metadata": {},
   "source": [
    "## Performing the SVD\n",
    "\n",
    "We now decompose `Ain` into three separate matrices using `svd`, so that:\n",
    "\n",
    "$ Ain = U.S.V $\n",
    "\n",
    "Where `S` is a diagonal matrix where the diagonal elements are the eigenvalues, `U` contains columns of eigenvectors, and `V` contains rows of eigenvectors.\n"
   ]
  },
  {
   "cell_type": "code",
   "execution_count": null,
   "metadata": {},
   "outputs": [],
   "source": [
    "U, s, V = np.linalg.svd(Ain, full_matrices=False)\n",
    "print(U.shape)\n",
    "print(s.shape)\n",
    "print(V.shape)"
   ]
  },
  {
   "cell_type": "markdown",
   "metadata": {},
   "source": [
    "## The size of the eigenvalues\n",
    "\n",
    "**Q5 (2 points):** Make a `log10` plot of the eigenvalues `s`. Label the x axis 'Order number' and the y-axis 'log10 variance'."
   ]
  },
  {
   "cell_type": "code",
   "execution_count": null,
   "metadata": {},
   "outputs": [],
   "source": [
    "# Q5 answer here\n",
    "\n",
    "plt.plot(np.log10(s))\n",
    "plt.xlabel('Order number')\n",
    "plt.ylabel('log10 variance')\n",
    "plt.show()"
   ]
  },
  {
   "cell_type": "markdown",
   "metadata": {},
   "source": [
    "The matrix multiplication:\n",
    "\n",
    "   $C = AB$\n",
    "   \n",
    "in Numpy can be done with:\n",
    "\n",
    "    C = np.dot(A,B)\n",
    "    \n",
    "**Q6 (2 points):** Check that $U.S.V$ is close to `Ain` by using the `np.isclose()` function and printing the fraction of elements that return `True`."
   ]
  },
  {
   "cell_type": "code",
   "execution_count": null,
   "metadata": {},
   "outputs": [],
   "source": [
    "# Q6 answer here\n",
    "\n",
    "Ain_C = np.dot((U*s), V)\n",
    "Ain_close = np.isclose(Ain, Ain_C)\n",
    "\n",
    "print(Ain_close)\n",
    "\n",
    "trues = np.count_nonzero(Ain_close)\n",
    "total_el = Ain_close.shape[0] * Ain_close.shape[1]\n",
    "frac = trues / total_el\n",
    "print(frac)"
   ]
  },
  {
   "cell_type": "markdown",
   "metadata": {},
   "source": [
    "## Approximate the PSF with $k$ number of eigenmodes\n",
    "\n",
    "Starting with `k=10`, make `Uk` , `Sk` and `Vk` such that you clip out the first `k` columns of `U`, the first `k` values of `s` and the first `k` rows of `V`.\n"
   ]
  },
  {
   "cell_type": "code",
   "execution_count": null,
   "metadata": {},
   "outputs": [],
   "source": [
    "k=10\n",
    "\n",
    "print(U.shape)\n",
    "print(s.shape)\n",
    "print(V.shape)\n",
    "\n",
    "# making Uk, Sk and Vk\n",
    "\n",
    "Uk = U[:,:k]\n",
    "sk = s[:k]\n",
    "Vk = V[:k]\n",
    "\n",
    "print('Uk shape =',Uk.shape,'sk shape =',sk.shape,'Vk shape =',Vk.shape)"
   ]
  },
  {
   "cell_type": "markdown",
   "metadata": {},
   "source": [
    "## Reconstructing the PCA PSF and subtracting it\n",
    "\n",
    "We can now use the first $k$ eigenimages and fit them to each individual image, creating a `reconstructed` image which can then be subtracted off `Ain` to produce the PCA subtracted annuli.\n",
    "\n",
    "After calculating `residuals` below, put it into an image array called `resid`."
   ]
  },
  {
   "cell_type": "code",
   "execution_count": null,
   "metadata": {},
   "outputs": [],
   "source": [
    "reconstructed = np.dot((Uk*sk),Vk)\n",
    "residuals = Ain - reconstructed\n",
    "\n",
    "resid = np.zeros_like(im_swap)\n",
    "resid[:][:][:][m] = residuals\n",
    "\n",
    "resid = np.swapaxes(resid,0,2)\n",
    "print(resid.shape)"
   ]
  },
  {
   "cell_type": "markdown",
   "metadata": {},
   "source": [
    "## Derotating the residuals and stacking together\n",
    "\n",
    "**Q7 (4 points):** Finally, take the data cube `resid` and derotate to the sky, and then median combine in a file called `PCAmed`. Display both `ADImed` and `PCAmed` using `imshow()` from -400 to 400.\n",
    "\n",
    "You can use `plt.show()` after an `imshow()` to force a new plot to appear."
   ]
  },
  {
   "cell_type": "code",
   "execution_count": null,
   "metadata": {},
   "outputs": [],
   "source": [
    "# Q7 answer here\n",
    "\n",
    "PCAmed = np.median(derot(resid,rot,(300,300),(150,150)),axis=0)\n",
    "print(PCAmed.shape)\n",
    "\n",
    "plt.imshow(PCAmed,vmin=-400,vmax=400)\n",
    "plt.show()\n",
    "\n",
    "plt.imshow(ADImed,vmin=-400,vmax=400)\n",
    "plt.show()"
   ]
  },
  {
   "cell_type": "markdown",
   "metadata": {
    "collapsed": true
   },
   "source": [
    "## Comparing median ADI and PCA\n",
    "\n",
    "**Q8 (4 points):** define annuli from 0.2 arcsec through to 4 arcsec in 0.1 arcsec steps. Plot the radius of the middle of width of the ring versus the r.m.s. in each the ring, ADI and for PCA for k = 5, 10, and 20. Plot them all on the same graph.\n",
    "\n",
    "**Q9 (4 points):** Measure the total flux from the planet at (170,100) using a 10 pixel diameter aperture for the four images above.\n",
    "\n",
    "What happens to the planet flux as you go to higher values of $k$?"
   ]
  },
  {
   "cell_type": "code",
   "execution_count": null,
   "metadata": {},
   "outputs": [],
   "source": [
    "# Q8 answer "
   ]
  },
  {
   "cell_type": "code",
   "execution_count": null,
   "metadata": {},
   "outputs": [],
   "source": [
    "annuli = np.arange(0.2,4.1,0.1)\n",
    "annuli *= 100\n",
    "\n",
    "k_array = np.array([5,10,20])\n",
    "\n",
    "ring_mask, r_rad = rings(ADImed,150,150,annuli)\n",
    "plt.imshow(ring_mask)"
   ]
  },
  {
   "cell_type": "code",
   "execution_count": null,
   "metadata": {},
   "outputs": [],
   "source": [
    "ADIrms = np.zeros_like(r_rad)\n",
    "PCA5rms = np.zeros_like(r_rad)\n",
    "PCA10rms = np.zeros_like(r_rad)\n",
    "PCA20rms = np.zeros_like(r_rad)"
   ]
  },
  {
   "cell_type": "code",
   "execution_count": null,
   "metadata": {},
   "outputs": [],
   "source": [
    "def recon_resids(k):\n",
    "    \n",
    "    Uk = U[:,:k]\n",
    "    sk = s[:k]\n",
    "    Vk = V[:k]\n",
    "    \n",
    "    reconstruct = np.dot((Uk*sk),Vk)\n",
    "    residuals = Ain - reconstruct\n",
    "    \n",
    "    resid = np.zeros_like(im_swap)\n",
    "    resid[:][:][:][m] = residuals\n",
    "    resid = np.swapaxes(resid,0,2)\n",
    "    \n",
    "    PCAmed = np.median(derot(resid,rot,(300,300),(150,150)),axis=0)\n",
    "    \n",
    "    return PCAmed\n",
    "\n",
    "lists = []\n",
    "\n",
    "for k in k_array:\n",
    "    lists.append(recon_resids(k))\n"
   ]
  },
  {
   "cell_type": "code",
   "execution_count": null,
   "metadata": {},
   "outputs": [],
   "source": [
    "PCAmed_5 = lists[0]\n",
    "PCAmed_10 = lists[1]\n",
    "PCAmed_20 = lists[2]"
   ]
  },
  {
   "cell_type": "code",
   "execution_count": null,
   "metadata": {},
   "outputs": [],
   "source": [
    "for i,j in enumerate(r_rad):\n",
    "    ADIrms[i] = np.std(ADImed[(ring_mask == i)])\n",
    "    PCA5rms[i] = np.std(PCAmed_5[ring_mask == i])\n",
    "    PCA10rms[i] = np.std(PCAmed_10[ring_mask == i])\n",
    "    PCA20rms[i] = np.std(PCAmed_20[ring_mask == i])\n"
   ]
  },
  {
   "cell_type": "code",
   "execution_count": null,
   "metadata": {},
   "outputs": [],
   "source": [
    "rms_list = [ADIrms,PCA5rms,PCA10rms,PCA20rms]\n",
    "rms_label = ['ADI','PCA k=5','PCA k=10','PCA k=20']\n",
    "\n",
    "for i,j in enumerate(rms_list):\n",
    "    plt.plot(r_rad,j,label=rms_label[i])\n",
    "plt.xlabel('Radius [pixels]')\n",
    "plt.ylabel('RMS')\n",
    "plt.legend()"
   ]
  },
  {
   "cell_type": "code",
   "execution_count": null,
   "metadata": {},
   "outputs": [],
   "source": [
    "# Q9\n",
    "plt.imshow(ADImed,vmin=-400,vmax=400)\n",
    "# planet = plt.Circle((170,100),10,color='r',fill=False) # Planet not at that location\n",
    "planet = plt.Circle((189,94),5,color='r',fill=False)\n",
    "plt.gca().add_artist(planet)\n",
    "plt.show()"
   ]
  },
  {
   "cell_type": "code",
   "execution_count": null,
   "metadata": {},
   "outputs": [],
   "source": [
    "plt.imshow(PCAmed_10,vmin=-400,vmax=400)\n",
    "planet = plt.Circle((189,94),10,color='r',fill=False)\n",
    "plt.gca().add_artist(planet)\n",
    "plt.colorbar()\n",
    "plt.show()\n",
    "print(np.median(PCAmed_10))"
   ]
  },
  {
   "cell_type": "code",
   "execution_count": null,
   "metadata": {},
   "outputs": [],
   "source": [
    "aperture_d = 10\n",
    "planet_mask = circle_mask(ADImed, 188,94, aperture_d)\n",
    "plt.imshow(ADImed*planet_mask)"
   ]
  },
  {
   "cell_type": "code",
   "execution_count": null,
   "metadata": {},
   "outputs": [],
   "source": [
    "print('ADI planet flux =',np.sum(ADImed*planet_mask))\n",
    "print('PCA k=5 planet flux =',np.sum(PCAmed_5*planet_mask))\n",
    "print('PCA k=10 planet flux =',np.sum(PCAmed_10*planet_mask))\n",
    "print('PCA k=20 planet flux =',np.sum(PCAmed_20*planet_mask))"
   ]
  },
  {
   "cell_type": "markdown",
   "metadata": {},
   "source": [
    "As the values of `k` go up, the flux of the planet goes down"
   ]
  }
 ],
 "metadata": {
  "kernelspec": {
   "display_name": "Python 3",
   "language": "python",
   "name": "python3"
  },
  "language_info": {
   "codemirror_mode": {
    "name": "ipython",
    "version": 3
   },
   "file_extension": ".py",
   "mimetype": "text/x-python",
   "name": "python",
   "nbconvert_exporter": "python",
   "pygments_lexer": "ipython3",
   "version": "3.7.3"
  }
 },
 "nbformat": 4,
 "nbformat_minor": 1
}
